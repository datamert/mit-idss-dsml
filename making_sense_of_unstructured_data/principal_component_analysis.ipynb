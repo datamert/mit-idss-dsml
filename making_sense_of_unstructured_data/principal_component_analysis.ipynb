{
 "cells": [
  {
   "cell_type": "markdown",
   "metadata": {
    "id": "eT8ztZbiu4Dk"
   },
   "source": [
    "-----------------------------\n",
    "## Practice Case study: PCA \n",
    "\n",
    "-----------------------------\n",
    "\n",
    "Welcome to the Practice Case on PCA. In this project, we aim to generate and visualize the PCA for auto-mpg dataset and extract insights.\n",
    "\n",
    "-----------------------------\n",
    "## Dataset: \n",
    "-----------------------------\n",
    "There are 8 variables in the data: \n",
    "\n",
    "- mpg: miles per gallon\n",
    "- cyl: number of cylinders\n",
    "- disp: engine displacement (cu. inches) or engine size\n",
    "- hp: horsepower\n",
    "- wt: vehicle weight (lbs.)\n",
    "- acc: time taken to accelerate from O to 60 mph (sec.)\n",
    "- yr: model year\n",
    "- car name: car model name"
   ]
  },
  {
   "cell_type": "markdown",
   "metadata": {
    "id": "e7YUSFfGu4Du"
   },
   "source": [
    "## Importing necessary libraries and overview of the dataset"
   ]
  },
  {
   "cell_type": "code",
   "execution_count": 1,
   "metadata": {
    "id": "aVFeA7eWu4Dv"
   },
   "outputs": [
    {
     "name": "stderr",
     "output_type": "stream",
     "text": [
      "Matplotlib is building the font cache; this may take a moment.\n"
     ]
    }
   ],
   "source": [
    "import pandas as pd\n",
    "import numpy as np\n",
    "import matplotlib.pyplot as plt\n",
    "import seaborn as sns\n",
    "\n",
    "#to scale the data using z-score \n",
    "from sklearn.preprocessing import StandardScaler\n",
    "\n",
    "#importing PCA and TSNE\n",
    "from sklearn.decomposition import PCA\n",
    "from sklearn.manifold import TSNE"
   ]
  },
  {
   "cell_type": "markdown",
   "metadata": {
    "id": "g2bXBiAivujY"
   },
   "source": [
    "#### Loading data"
   ]
  },
  {
   "cell_type": "code",
   "execution_count": 2,
   "metadata": {
    "id": "MuQU1BD-u4Dx"
   },
   "outputs": [],
   "source": [
    "data = pd.read_csv(\"auto-mpg.csv\")"
   ]
  },
  {
   "cell_type": "code",
   "execution_count": 3,
   "metadata": {
    "id": "KczGshrVu4Dy",
    "outputId": "f93467ba-526b-4d6c-e0cd-b45a565bcf5d"
   },
   "outputs": [
    {
     "data": {
      "text/html": [
       "<div>\n",
       "<style scoped>\n",
       "    .dataframe tbody tr th:only-of-type {\n",
       "        vertical-align: middle;\n",
       "    }\n",
       "\n",
       "    .dataframe tbody tr th {\n",
       "        vertical-align: top;\n",
       "    }\n",
       "\n",
       "    .dataframe thead th {\n",
       "        text-align: right;\n",
       "    }\n",
       "</style>\n",
       "<table border=\"1\" class=\"dataframe\">\n",
       "  <thead>\n",
       "    <tr style=\"text-align: right;\">\n",
       "      <th></th>\n",
       "      <th>mpg</th>\n",
       "      <th>cylinders</th>\n",
       "      <th>displacement</th>\n",
       "      <th>horsepower</th>\n",
       "      <th>weight</th>\n",
       "      <th>acceleration</th>\n",
       "      <th>model year</th>\n",
       "      <th>car name</th>\n",
       "    </tr>\n",
       "  </thead>\n",
       "  <tbody>\n",
       "    <tr>\n",
       "      <th>0</th>\n",
       "      <td>18.0</td>\n",
       "      <td>8</td>\n",
       "      <td>307.0</td>\n",
       "      <td>130</td>\n",
       "      <td>3504</td>\n",
       "      <td>12.0</td>\n",
       "      <td>70</td>\n",
       "      <td>chevrolet chevelle malibu</td>\n",
       "    </tr>\n",
       "    <tr>\n",
       "      <th>1</th>\n",
       "      <td>15.0</td>\n",
       "      <td>8</td>\n",
       "      <td>350.0</td>\n",
       "      <td>165</td>\n",
       "      <td>3693</td>\n",
       "      <td>11.5</td>\n",
       "      <td>70</td>\n",
       "      <td>buick skylark 320</td>\n",
       "    </tr>\n",
       "    <tr>\n",
       "      <th>2</th>\n",
       "      <td>18.0</td>\n",
       "      <td>8</td>\n",
       "      <td>318.0</td>\n",
       "      <td>150</td>\n",
       "      <td>3436</td>\n",
       "      <td>11.0</td>\n",
       "      <td>70</td>\n",
       "      <td>plymouth satellite</td>\n",
       "    </tr>\n",
       "    <tr>\n",
       "      <th>3</th>\n",
       "      <td>16.0</td>\n",
       "      <td>8</td>\n",
       "      <td>304.0</td>\n",
       "      <td>150</td>\n",
       "      <td>3433</td>\n",
       "      <td>12.0</td>\n",
       "      <td>70</td>\n",
       "      <td>amc rebel sst</td>\n",
       "    </tr>\n",
       "    <tr>\n",
       "      <th>4</th>\n",
       "      <td>17.0</td>\n",
       "      <td>8</td>\n",
       "      <td>302.0</td>\n",
       "      <td>140</td>\n",
       "      <td>3449</td>\n",
       "      <td>10.5</td>\n",
       "      <td>70</td>\n",
       "      <td>ford torino</td>\n",
       "    </tr>\n",
       "  </tbody>\n",
       "</table>\n",
       "</div>"
      ],
      "text/plain": [
       "    mpg  cylinders  displacement horsepower  weight  acceleration  model year  \\\n",
       "0  18.0          8         307.0        130    3504          12.0          70   \n",
       "1  15.0          8         350.0        165    3693          11.5          70   \n",
       "2  18.0          8         318.0        150    3436          11.0          70   \n",
       "3  16.0          8         304.0        150    3433          12.0          70   \n",
       "4  17.0          8         302.0        140    3449          10.5          70   \n",
       "\n",
       "                    car name  \n",
       "0  chevrolet chevelle malibu  \n",
       "1          buick skylark 320  \n",
       "2         plymouth satellite  \n",
       "3              amc rebel sst  \n",
       "4                ford torino  "
      ]
     },
     "execution_count": 3,
     "metadata": {},
     "output_type": "execute_result"
    }
   ],
   "source": [
    "data.head()"
   ]
  },
  {
   "cell_type": "code",
   "execution_count": 5,
   "metadata": {},
   "outputs": [
    {
     "data": {
      "text/html": [
       "<div>\n",
       "<style scoped>\n",
       "    .dataframe tbody tr th:only-of-type {\n",
       "        vertical-align: middle;\n",
       "    }\n",
       "\n",
       "    .dataframe tbody tr th {\n",
       "        vertical-align: top;\n",
       "    }\n",
       "\n",
       "    .dataframe thead th {\n",
       "        text-align: right;\n",
       "    }\n",
       "</style>\n",
       "<table border=\"1\" class=\"dataframe\">\n",
       "  <thead>\n",
       "    <tr style=\"text-align: right;\">\n",
       "      <th></th>\n",
       "      <th>mpg</th>\n",
       "      <th>cylinders</th>\n",
       "      <th>displacement</th>\n",
       "      <th>horsepower</th>\n",
       "      <th>weight</th>\n",
       "      <th>acceleration</th>\n",
       "      <th>model year</th>\n",
       "      <th>car name</th>\n",
       "    </tr>\n",
       "  </thead>\n",
       "  <tbody>\n",
       "    <tr>\n",
       "      <th>52</th>\n",
       "      <td>30.0</td>\n",
       "      <td>4</td>\n",
       "      <td>88.0</td>\n",
       "      <td>76</td>\n",
       "      <td>2065</td>\n",
       "      <td>14.5</td>\n",
       "      <td>71</td>\n",
       "      <td>fiat 124b</td>\n",
       "    </tr>\n",
       "    <tr>\n",
       "      <th>185</th>\n",
       "      <td>26.0</td>\n",
       "      <td>4</td>\n",
       "      <td>98.0</td>\n",
       "      <td>79</td>\n",
       "      <td>2255</td>\n",
       "      <td>17.7</td>\n",
       "      <td>76</td>\n",
       "      <td>dodge colt</td>\n",
       "    </tr>\n",
       "    <tr>\n",
       "      <th>96</th>\n",
       "      <td>13.0</td>\n",
       "      <td>8</td>\n",
       "      <td>360.0</td>\n",
       "      <td>175</td>\n",
       "      <td>3821</td>\n",
       "      <td>11.0</td>\n",
       "      <td>73</td>\n",
       "      <td>amc ambassador brougham</td>\n",
       "    </tr>\n",
       "    <tr>\n",
       "      <th>373</th>\n",
       "      <td>24.0</td>\n",
       "      <td>4</td>\n",
       "      <td>140.0</td>\n",
       "      <td>92</td>\n",
       "      <td>2865</td>\n",
       "      <td>16.4</td>\n",
       "      <td>82</td>\n",
       "      <td>ford fairmont futura</td>\n",
       "    </tr>\n",
       "    <tr>\n",
       "      <th>41</th>\n",
       "      <td>14.0</td>\n",
       "      <td>8</td>\n",
       "      <td>318.0</td>\n",
       "      <td>150</td>\n",
       "      <td>4096</td>\n",
       "      <td>13.0</td>\n",
       "      <td>71</td>\n",
       "      <td>plymouth fury iii</td>\n",
       "    </tr>\n",
       "    <tr>\n",
       "      <th>169</th>\n",
       "      <td>20.0</td>\n",
       "      <td>6</td>\n",
       "      <td>232.0</td>\n",
       "      <td>100</td>\n",
       "      <td>2914</td>\n",
       "      <td>16.0</td>\n",
       "      <td>75</td>\n",
       "      <td>amc gremlin</td>\n",
       "    </tr>\n",
       "    <tr>\n",
       "      <th>111</th>\n",
       "      <td>18.0</td>\n",
       "      <td>3</td>\n",
       "      <td>70.0</td>\n",
       "      <td>90</td>\n",
       "      <td>2124</td>\n",
       "      <td>13.5</td>\n",
       "      <td>73</td>\n",
       "      <td>maxda rx3</td>\n",
       "    </tr>\n",
       "    <tr>\n",
       "      <th>37</th>\n",
       "      <td>18.0</td>\n",
       "      <td>6</td>\n",
       "      <td>232.0</td>\n",
       "      <td>100</td>\n",
       "      <td>3288</td>\n",
       "      <td>15.5</td>\n",
       "      <td>71</td>\n",
       "      <td>amc matador</td>\n",
       "    </tr>\n",
       "    <tr>\n",
       "      <th>64</th>\n",
       "      <td>15.0</td>\n",
       "      <td>8</td>\n",
       "      <td>318.0</td>\n",
       "      <td>150</td>\n",
       "      <td>4135</td>\n",
       "      <td>13.5</td>\n",
       "      <td>72</td>\n",
       "      <td>plymouth fury iii</td>\n",
       "    </tr>\n",
       "    <tr>\n",
       "      <th>275</th>\n",
       "      <td>17.0</td>\n",
       "      <td>6</td>\n",
       "      <td>163.0</td>\n",
       "      <td>125</td>\n",
       "      <td>3140</td>\n",
       "      <td>13.6</td>\n",
       "      <td>78</td>\n",
       "      <td>volvo 264gl</td>\n",
       "    </tr>\n",
       "    <tr>\n",
       "      <th>130</th>\n",
       "      <td>26.0</td>\n",
       "      <td>4</td>\n",
       "      <td>122.0</td>\n",
       "      <td>80</td>\n",
       "      <td>2451</td>\n",
       "      <td>16.5</td>\n",
       "      <td>74</td>\n",
       "      <td>ford pinto</td>\n",
       "    </tr>\n",
       "    <tr>\n",
       "      <th>95</th>\n",
       "      <td>12.0</td>\n",
       "      <td>8</td>\n",
       "      <td>455.0</td>\n",
       "      <td>225</td>\n",
       "      <td>4951</td>\n",
       "      <td>11.0</td>\n",
       "      <td>73</td>\n",
       "      <td>buick electra 225 custom</td>\n",
       "    </tr>\n",
       "    <tr>\n",
       "      <th>63</th>\n",
       "      <td>14.0</td>\n",
       "      <td>8</td>\n",
       "      <td>400.0</td>\n",
       "      <td>175</td>\n",
       "      <td>4385</td>\n",
       "      <td>12.0</td>\n",
       "      <td>72</td>\n",
       "      <td>pontiac catalina</td>\n",
       "    </tr>\n",
       "    <tr>\n",
       "      <th>234</th>\n",
       "      <td>24.5</td>\n",
       "      <td>4</td>\n",
       "      <td>151.0</td>\n",
       "      <td>88</td>\n",
       "      <td>2740</td>\n",
       "      <td>16.0</td>\n",
       "      <td>77</td>\n",
       "      <td>pontiac sunbird coupe</td>\n",
       "    </tr>\n",
       "    <tr>\n",
       "      <th>280</th>\n",
       "      <td>21.5</td>\n",
       "      <td>6</td>\n",
       "      <td>231.0</td>\n",
       "      <td>115</td>\n",
       "      <td>3245</td>\n",
       "      <td>15.4</td>\n",
       "      <td>79</td>\n",
       "      <td>pontiac lemans v6</td>\n",
       "    </tr>\n",
       "    <tr>\n",
       "      <th>200</th>\n",
       "      <td>18.0</td>\n",
       "      <td>6</td>\n",
       "      <td>250.0</td>\n",
       "      <td>78</td>\n",
       "      <td>3574</td>\n",
       "      <td>21.0</td>\n",
       "      <td>76</td>\n",
       "      <td>ford granada ghia</td>\n",
       "    </tr>\n",
       "    <tr>\n",
       "      <th>289</th>\n",
       "      <td>16.9</td>\n",
       "      <td>8</td>\n",
       "      <td>350.0</td>\n",
       "      <td>155</td>\n",
       "      <td>4360</td>\n",
       "      <td>14.9</td>\n",
       "      <td>79</td>\n",
       "      <td>buick estate wagon (sw)</td>\n",
       "    </tr>\n",
       "    <tr>\n",
       "      <th>369</th>\n",
       "      <td>34.0</td>\n",
       "      <td>4</td>\n",
       "      <td>112.0</td>\n",
       "      <td>88</td>\n",
       "      <td>2395</td>\n",
       "      <td>18.0</td>\n",
       "      <td>82</td>\n",
       "      <td>chevrolet cavalier 2-door</td>\n",
       "    </tr>\n",
       "    <tr>\n",
       "      <th>195</th>\n",
       "      <td>29.0</td>\n",
       "      <td>4</td>\n",
       "      <td>85.0</td>\n",
       "      <td>52</td>\n",
       "      <td>2035</td>\n",
       "      <td>22.2</td>\n",
       "      <td>76</td>\n",
       "      <td>chevrolet chevette</td>\n",
       "    </tr>\n",
       "    <tr>\n",
       "      <th>59</th>\n",
       "      <td>23.0</td>\n",
       "      <td>4</td>\n",
       "      <td>97.0</td>\n",
       "      <td>54</td>\n",
       "      <td>2254</td>\n",
       "      <td>23.5</td>\n",
       "      <td>72</td>\n",
       "      <td>volkswagen type 3</td>\n",
       "    </tr>\n",
       "  </tbody>\n",
       "</table>\n",
       "</div>"
      ],
      "text/plain": [
       "      mpg  cylinders  displacement horsepower  weight  acceleration  \\\n",
       "52   30.0          4          88.0         76    2065          14.5   \n",
       "185  26.0          4          98.0         79    2255          17.7   \n",
       "96   13.0          8         360.0        175    3821          11.0   \n",
       "373  24.0          4         140.0         92    2865          16.4   \n",
       "41   14.0          8         318.0        150    4096          13.0   \n",
       "169  20.0          6         232.0        100    2914          16.0   \n",
       "111  18.0          3          70.0         90    2124          13.5   \n",
       "37   18.0          6         232.0        100    3288          15.5   \n",
       "64   15.0          8         318.0        150    4135          13.5   \n",
       "275  17.0          6         163.0        125    3140          13.6   \n",
       "130  26.0          4         122.0         80    2451          16.5   \n",
       "95   12.0          8         455.0        225    4951          11.0   \n",
       "63   14.0          8         400.0        175    4385          12.0   \n",
       "234  24.5          4         151.0         88    2740          16.0   \n",
       "280  21.5          6         231.0        115    3245          15.4   \n",
       "200  18.0          6         250.0         78    3574          21.0   \n",
       "289  16.9          8         350.0        155    4360          14.9   \n",
       "369  34.0          4         112.0         88    2395          18.0   \n",
       "195  29.0          4          85.0         52    2035          22.2   \n",
       "59   23.0          4          97.0         54    2254          23.5   \n",
       "\n",
       "     model year                   car name  \n",
       "52           71                  fiat 124b  \n",
       "185          76                 dodge colt  \n",
       "96           73    amc ambassador brougham  \n",
       "373          82       ford fairmont futura  \n",
       "41           71          plymouth fury iii  \n",
       "169          75                amc gremlin  \n",
       "111          73                  maxda rx3  \n",
       "37           71                amc matador  \n",
       "64           72          plymouth fury iii  \n",
       "275          78                volvo 264gl  \n",
       "130          74                 ford pinto  \n",
       "95           73   buick electra 225 custom  \n",
       "63           72           pontiac catalina  \n",
       "234          77      pontiac sunbird coupe  \n",
       "280          79          pontiac lemans v6  \n",
       "200          76          ford granada ghia  \n",
       "289          79    buick estate wagon (sw)  \n",
       "369          82  chevrolet cavalier 2-door  \n",
       "195          76         chevrolet chevette  \n",
       "59           72          volkswagen type 3  "
      ]
     },
     "execution_count": 5,
     "metadata": {},
     "output_type": "execute_result"
    }
   ],
   "source": [
    "data.sample(20)"
   ]
  },
  {
   "cell_type": "markdown",
   "metadata": {
    "id": "sTXXY0cVvuja"
   },
   "source": [
    "#### Check the info of the data"
   ]
  },
  {
   "cell_type": "code",
   "execution_count": 6,
   "metadata": {
    "id": "iNuAIXhqvuja",
    "outputId": "9b8f4ee0-1f3c-4cb0-acbe-6ec39b89b859"
   },
   "outputs": [
    {
     "name": "stdout",
     "output_type": "stream",
     "text": [
      "<class 'pandas.core.frame.DataFrame'>\n",
      "RangeIndex: 398 entries, 0 to 397\n",
      "Data columns (total 8 columns):\n",
      " #   Column        Non-Null Count  Dtype  \n",
      "---  ------        --------------  -----  \n",
      " 0   mpg           398 non-null    float64\n",
      " 1   cylinders     398 non-null    int64  \n",
      " 2   displacement  398 non-null    float64\n",
      " 3   horsepower    398 non-null    object \n",
      " 4   weight        398 non-null    int64  \n",
      " 5   acceleration  398 non-null    float64\n",
      " 6   model year    398 non-null    int64  \n",
      " 7   car name      398 non-null    object \n",
      "dtypes: float64(3), int64(3), object(2)\n",
      "memory usage: 25.0+ KB\n"
     ]
    }
   ],
   "source": [
    "data.info()"
   ]
  },
  {
   "cell_type": "markdown",
   "metadata": {
    "id": "yfUl_sjHvujb"
   },
   "source": [
    "**Observation:**\n",
    "\n",
    "- There are 398 observations and 8 columns in the data.\n",
    "- All variables except horsepower and car name are of numeric data type.\n",
    "- The horsepower must be a numeric data type. We will explore this further."
   ]
  },
  {
   "cell_type": "code",
   "execution_count": 7,
   "metadata": {},
   "outputs": [
    {
     "data": {
      "text/plain": [
       "array(['130', '165', '150', '140', '198', '220', '215', '225', '190',\n",
       "       '170', '160', '95', '97', '85', '88', '46', '87', '90', '113',\n",
       "       '200', '210', '193', '?', '100', '105', '175', '153', '180', '110',\n",
       "       '72', '86', '70', '76', '65', '69', '60', '80', '54', '208', '155',\n",
       "       '112', '92', '145', '137', '158', '167', '94', '107', '230', '49',\n",
       "       '75', '91', '122', '67', '83', '78', '52', '61', '93', '148',\n",
       "       '129', '96', '71', '98', '115', '53', '81', '79', '120', '152',\n",
       "       '102', '108', '68', '58', '149', '89', '63', '48', '66', '139',\n",
       "       '103', '125', '133', '138', '135', '142', '77', '62', '132', '84',\n",
       "       '64', '74', '116', '82'], dtype=object)"
      ]
     },
     "execution_count": 7,
     "metadata": {},
     "output_type": "execute_result"
    }
   ],
   "source": [
    "data['horsepower'].unique()"
   ]
  },
  {
   "cell_type": "code",
   "execution_count": 8,
   "metadata": {},
   "outputs": [
    {
     "data": {
      "text/plain": [
       "array([70, 71, 72, 73, 74, 75, 76, 77, 78, 79, 80, 81, 82])"
      ]
     },
     "execution_count": 8,
     "metadata": {},
     "output_type": "execute_result"
    }
   ],
   "source": [
    "data['model year'].unique()"
   ]
  },
  {
   "cell_type": "markdown",
   "metadata": {
    "id": "1B_nVTGSvujb"
   },
   "source": [
    "## Data Preprocessing and Exploratory Data Analysis"
   ]
  },
  {
   "cell_type": "code",
   "execution_count": 11,
   "metadata": {
    "id": "xwmALVCRvujb",
    "outputId": "7d593b59-02d9-4612-8f44-acac854c64dd"
   },
   "outputs": [
    {
     "data": {
      "text/plain": [
       "305"
      ]
     },
     "execution_count": 11,
     "metadata": {},
     "output_type": "execute_result"
    }
   ],
   "source": [
    "data[\"car name\"].nunique()"
   ]
  },
  {
   "cell_type": "markdown",
   "metadata": {
    "id": "HtksWvFgu4Dz"
   },
   "source": [
    "- The column 'car name' is of object data type containing a lot of unique entries and would not add values to our analysis. We can drop this column, or we can temporarily use it as an index column (to bring back later)."
   ]
  },
  {
   "cell_type": "code",
   "execution_count": 14,
   "metadata": {
    "id": "x_gzOWz7u4D0"
   },
   "outputs": [],
   "source": [
    "data.set_index(\"car name\", inplace=True)"
   ]
  },
  {
   "cell_type": "markdown",
   "metadata": {
    "id": "5h4vat2Wvujc"
   },
   "source": [
    "#### Checking values in horsepower column"
   ]
  },
  {
   "cell_type": "code",
   "execution_count": 15,
   "metadata": {
    "id": "S7lk2lGQvujc",
    "outputId": "49039370-367d-424a-dd3e-ada47832ce3e"
   },
   "outputs": [
    {
     "data": {
      "text/html": [
       "<div>\n",
       "<style scoped>\n",
       "    .dataframe tbody tr th:only-of-type {\n",
       "        vertical-align: middle;\n",
       "    }\n",
       "\n",
       "    .dataframe tbody tr th {\n",
       "        vertical-align: top;\n",
       "    }\n",
       "\n",
       "    .dataframe thead th {\n",
       "        text-align: right;\n",
       "    }\n",
       "</style>\n",
       "<table border=\"1\" class=\"dataframe\">\n",
       "  <thead>\n",
       "    <tr style=\"text-align: right;\">\n",
       "      <th></th>\n",
       "      <th>mpg</th>\n",
       "      <th>cylinders</th>\n",
       "      <th>displacement</th>\n",
       "      <th>horsepower</th>\n",
       "      <th>weight</th>\n",
       "      <th>acceleration</th>\n",
       "      <th>model year</th>\n",
       "    </tr>\n",
       "    <tr>\n",
       "      <th>car name</th>\n",
       "      <th></th>\n",
       "      <th></th>\n",
       "      <th></th>\n",
       "      <th></th>\n",
       "      <th></th>\n",
       "      <th></th>\n",
       "      <th></th>\n",
       "    </tr>\n",
       "  </thead>\n",
       "  <tbody>\n",
       "    <tr>\n",
       "      <th>ford pinto</th>\n",
       "      <td>25.0</td>\n",
       "      <td>4</td>\n",
       "      <td>98.0</td>\n",
       "      <td>?</td>\n",
       "      <td>2046</td>\n",
       "      <td>19.0</td>\n",
       "      <td>71</td>\n",
       "    </tr>\n",
       "    <tr>\n",
       "      <th>ford maverick</th>\n",
       "      <td>21.0</td>\n",
       "      <td>6</td>\n",
       "      <td>200.0</td>\n",
       "      <td>?</td>\n",
       "      <td>2875</td>\n",
       "      <td>17.0</td>\n",
       "      <td>74</td>\n",
       "    </tr>\n",
       "    <tr>\n",
       "      <th>renault lecar deluxe</th>\n",
       "      <td>40.9</td>\n",
       "      <td>4</td>\n",
       "      <td>85.0</td>\n",
       "      <td>?</td>\n",
       "      <td>1835</td>\n",
       "      <td>17.3</td>\n",
       "      <td>80</td>\n",
       "    </tr>\n",
       "    <tr>\n",
       "      <th>ford mustang cobra</th>\n",
       "      <td>23.6</td>\n",
       "      <td>4</td>\n",
       "      <td>140.0</td>\n",
       "      <td>?</td>\n",
       "      <td>2905</td>\n",
       "      <td>14.3</td>\n",
       "      <td>80</td>\n",
       "    </tr>\n",
       "    <tr>\n",
       "      <th>renault 18i</th>\n",
       "      <td>34.5</td>\n",
       "      <td>4</td>\n",
       "      <td>100.0</td>\n",
       "      <td>?</td>\n",
       "      <td>2320</td>\n",
       "      <td>15.8</td>\n",
       "      <td>81</td>\n",
       "    </tr>\n",
       "    <tr>\n",
       "      <th>amc concord dl</th>\n",
       "      <td>23.0</td>\n",
       "      <td>4</td>\n",
       "      <td>151.0</td>\n",
       "      <td>?</td>\n",
       "      <td>3035</td>\n",
       "      <td>20.5</td>\n",
       "      <td>82</td>\n",
       "    </tr>\n",
       "  </tbody>\n",
       "</table>\n",
       "</div>"
      ],
      "text/plain": [
       "                       mpg  cylinders  displacement horsepower  weight  \\\n",
       "car name                                                                 \n",
       "ford pinto            25.0          4          98.0          ?    2046   \n",
       "ford maverick         21.0          6         200.0          ?    2875   \n",
       "renault lecar deluxe  40.9          4          85.0          ?    1835   \n",
       "ford mustang cobra    23.6          4         140.0          ?    2905   \n",
       "renault 18i           34.5          4         100.0          ?    2320   \n",
       "amc concord dl        23.0          4         151.0          ?    3035   \n",
       "\n",
       "                      acceleration  model year  \n",
       "car name                                        \n",
       "ford pinto                    19.0          71  \n",
       "ford maverick                 17.0          74  \n",
       "renault lecar deluxe          17.3          80  \n",
       "ford mustang cobra            14.3          80  \n",
       "renault 18i                   15.8          81  \n",
       "amc concord dl                20.5          82  "
      ]
     },
     "execution_count": 15,
     "metadata": {},
     "output_type": "execute_result"
    }
   ],
   "source": [
    "# checking if there are values other than digits in the column 'horsepower' \n",
    "hpIsDigit = pd.DataFrame(data.horsepower.str.isdigit())  # if the string is made of digits store True else False\n",
    "\n",
    "# print isDigit = False!\n",
    "data[hpIsDigit['horsepower'] == False]   # from temp take only those rows where hp has false"
   ]
  },
  {
   "cell_type": "code",
   "execution_count": 17,
   "metadata": {},
   "outputs": [
    {
     "data": {
      "text/html": [
       "<div>\n",
       "<style scoped>\n",
       "    .dataframe tbody tr th:only-of-type {\n",
       "        vertical-align: middle;\n",
       "    }\n",
       "\n",
       "    .dataframe tbody tr th {\n",
       "        vertical-align: top;\n",
       "    }\n",
       "\n",
       "    .dataframe thead th {\n",
       "        text-align: right;\n",
       "    }\n",
       "</style>\n",
       "<table border=\"1\" class=\"dataframe\">\n",
       "  <thead>\n",
       "    <tr style=\"text-align: right;\">\n",
       "      <th></th>\n",
       "      <th>mpg</th>\n",
       "      <th>cylinders</th>\n",
       "      <th>displacement</th>\n",
       "      <th>horsepower</th>\n",
       "      <th>weight</th>\n",
       "      <th>acceleration</th>\n",
       "      <th>model year</th>\n",
       "    </tr>\n",
       "    <tr>\n",
       "      <th>car name</th>\n",
       "      <th></th>\n",
       "      <th></th>\n",
       "      <th></th>\n",
       "      <th></th>\n",
       "      <th></th>\n",
       "      <th></th>\n",
       "      <th></th>\n",
       "    </tr>\n",
       "  </thead>\n",
       "  <tbody>\n",
       "    <tr>\n",
       "      <th>ford pinto</th>\n",
       "      <td>25.0</td>\n",
       "      <td>4</td>\n",
       "      <td>98.0</td>\n",
       "      <td>?</td>\n",
       "      <td>2046</td>\n",
       "      <td>19.0</td>\n",
       "      <td>71</td>\n",
       "    </tr>\n",
       "    <tr>\n",
       "      <th>ford pinto</th>\n",
       "      <td>19.0</td>\n",
       "      <td>4</td>\n",
       "      <td>122.0</td>\n",
       "      <td>85</td>\n",
       "      <td>2310</td>\n",
       "      <td>18.5</td>\n",
       "      <td>73</td>\n",
       "    </tr>\n",
       "    <tr>\n",
       "      <th>ford pinto</th>\n",
       "      <td>26.0</td>\n",
       "      <td>4</td>\n",
       "      <td>122.0</td>\n",
       "      <td>80</td>\n",
       "      <td>2451</td>\n",
       "      <td>16.5</td>\n",
       "      <td>74</td>\n",
       "    </tr>\n",
       "    <tr>\n",
       "      <th>ford pinto</th>\n",
       "      <td>23.0</td>\n",
       "      <td>4</td>\n",
       "      <td>140.0</td>\n",
       "      <td>83</td>\n",
       "      <td>2639</td>\n",
       "      <td>17.0</td>\n",
       "      <td>75</td>\n",
       "    </tr>\n",
       "    <tr>\n",
       "      <th>ford pinto</th>\n",
       "      <td>18.0</td>\n",
       "      <td>6</td>\n",
       "      <td>171.0</td>\n",
       "      <td>97</td>\n",
       "      <td>2984</td>\n",
       "      <td>14.5</td>\n",
       "      <td>75</td>\n",
       "    </tr>\n",
       "    <tr>\n",
       "      <th>ford pinto</th>\n",
       "      <td>26.5</td>\n",
       "      <td>4</td>\n",
       "      <td>140.0</td>\n",
       "      <td>72</td>\n",
       "      <td>2565</td>\n",
       "      <td>13.6</td>\n",
       "      <td>76</td>\n",
       "    </tr>\n",
       "  </tbody>\n",
       "</table>\n",
       "</div>"
      ],
      "text/plain": [
       "             mpg  cylinders  displacement horsepower  weight  acceleration  \\\n",
       "car name                                                                     \n",
       "ford pinto  25.0          4          98.0          ?    2046          19.0   \n",
       "ford pinto  19.0          4         122.0         85    2310          18.5   \n",
       "ford pinto  26.0          4         122.0         80    2451          16.5   \n",
       "ford pinto  23.0          4         140.0         83    2639          17.0   \n",
       "ford pinto  18.0          6         171.0         97    2984          14.5   \n",
       "ford pinto  26.5          4         140.0         72    2565          13.6   \n",
       "\n",
       "            model year  \n",
       "car name                \n",
       "ford pinto          71  \n",
       "ford pinto          73  \n",
       "ford pinto          74  \n",
       "ford pinto          75  \n",
       "ford pinto          75  \n",
       "ford pinto          76  "
      ]
     },
     "execution_count": 17,
     "metadata": {},
     "output_type": "execute_result"
    }
   ],
   "source": [
    "# Return all rows with index 'ford pinto'\n",
    "data.loc[\"ford pinto\"]"
   ]
  },
  {
   "cell_type": "markdown",
   "metadata": {
    "id": "Z1qqm_S0vujd"
   },
   "source": [
    "**Observations:**\n",
    "- There are 6 observations where horsepower is ?.\n",
    "- We can consider these values as missing values.\n",
    "- Let's impute these missing values and change the data type of horsepower column.\n",
    "- First we need to replace the ? with np.nan."
   ]
  },
  {
   "cell_type": "code",
   "execution_count": 18,
   "metadata": {
    "id": "xWvn0LhBvujd",
    "outputId": "47f8a323-e978-4cf0-d31e-87242594abe8"
   },
   "outputs": [
    {
     "data": {
      "text/html": [
       "<div>\n",
       "<style scoped>\n",
       "    .dataframe tbody tr th:only-of-type {\n",
       "        vertical-align: middle;\n",
       "    }\n",
       "\n",
       "    .dataframe tbody tr th {\n",
       "        vertical-align: top;\n",
       "    }\n",
       "\n",
       "    .dataframe thead th {\n",
       "        text-align: right;\n",
       "    }\n",
       "</style>\n",
       "<table border=\"1\" class=\"dataframe\">\n",
       "  <thead>\n",
       "    <tr style=\"text-align: right;\">\n",
       "      <th></th>\n",
       "      <th>mpg</th>\n",
       "      <th>cylinders</th>\n",
       "      <th>displacement</th>\n",
       "      <th>horsepower</th>\n",
       "      <th>weight</th>\n",
       "      <th>acceleration</th>\n",
       "      <th>model year</th>\n",
       "    </tr>\n",
       "    <tr>\n",
       "      <th>car name</th>\n",
       "      <th></th>\n",
       "      <th></th>\n",
       "      <th></th>\n",
       "      <th></th>\n",
       "      <th></th>\n",
       "      <th></th>\n",
       "      <th></th>\n",
       "    </tr>\n",
       "  </thead>\n",
       "  <tbody>\n",
       "    <tr>\n",
       "      <th>ford pinto</th>\n",
       "      <td>25.0</td>\n",
       "      <td>4</td>\n",
       "      <td>98.0</td>\n",
       "      <td>NaN</td>\n",
       "      <td>2046</td>\n",
       "      <td>19.0</td>\n",
       "      <td>71</td>\n",
       "    </tr>\n",
       "    <tr>\n",
       "      <th>ford maverick</th>\n",
       "      <td>21.0</td>\n",
       "      <td>6</td>\n",
       "      <td>200.0</td>\n",
       "      <td>NaN</td>\n",
       "      <td>2875</td>\n",
       "      <td>17.0</td>\n",
       "      <td>74</td>\n",
       "    </tr>\n",
       "    <tr>\n",
       "      <th>renault lecar deluxe</th>\n",
       "      <td>40.9</td>\n",
       "      <td>4</td>\n",
       "      <td>85.0</td>\n",
       "      <td>NaN</td>\n",
       "      <td>1835</td>\n",
       "      <td>17.3</td>\n",
       "      <td>80</td>\n",
       "    </tr>\n",
       "    <tr>\n",
       "      <th>ford mustang cobra</th>\n",
       "      <td>23.6</td>\n",
       "      <td>4</td>\n",
       "      <td>140.0</td>\n",
       "      <td>NaN</td>\n",
       "      <td>2905</td>\n",
       "      <td>14.3</td>\n",
       "      <td>80</td>\n",
       "    </tr>\n",
       "    <tr>\n",
       "      <th>renault 18i</th>\n",
       "      <td>34.5</td>\n",
       "      <td>4</td>\n",
       "      <td>100.0</td>\n",
       "      <td>NaN</td>\n",
       "      <td>2320</td>\n",
       "      <td>15.8</td>\n",
       "      <td>81</td>\n",
       "    </tr>\n",
       "    <tr>\n",
       "      <th>amc concord dl</th>\n",
       "      <td>23.0</td>\n",
       "      <td>4</td>\n",
       "      <td>151.0</td>\n",
       "      <td>NaN</td>\n",
       "      <td>3035</td>\n",
       "      <td>20.5</td>\n",
       "      <td>82</td>\n",
       "    </tr>\n",
       "  </tbody>\n",
       "</table>\n",
       "</div>"
      ],
      "text/plain": [
       "                       mpg  cylinders  displacement horsepower  weight  \\\n",
       "car name                                                                 \n",
       "ford pinto            25.0          4          98.0        NaN    2046   \n",
       "ford maverick         21.0          6         200.0        NaN    2875   \n",
       "renault lecar deluxe  40.9          4          85.0        NaN    1835   \n",
       "ford mustang cobra    23.6          4         140.0        NaN    2905   \n",
       "renault 18i           34.5          4         100.0        NaN    2320   \n",
       "amc concord dl        23.0          4         151.0        NaN    3035   \n",
       "\n",
       "                      acceleration  model year  \n",
       "car name                                        \n",
       "ford pinto                    19.0          71  \n",
       "ford maverick                 17.0          74  \n",
       "renault lecar deluxe          17.3          80  \n",
       "ford mustang cobra            14.3          80  \n",
       "renault 18i                   15.8          81  \n",
       "amc concord dl                20.5          82  "
      ]
     },
     "execution_count": 18,
     "metadata": {},
     "output_type": "execute_result"
    }
   ],
   "source": [
    "#Relacing ? with np.nan\n",
    "data = data.replace('?', np.nan)\n",
    "data[hpIsDigit['horsepower'] == False]"
   ]
  },
  {
   "cell_type": "code",
   "execution_count": 20,
   "metadata": {
    "id": "w56loeKtvujd"
   },
   "outputs": [
    {
     "name": "stderr",
     "output_type": "stream",
     "text": [
      "C:\\Users\\N10389\\AppData\\Local\\Temp\\ipykernel_11708\\1430905166.py:3: FutureWarning: A value is trying to be set on a copy of a DataFrame or Series through chained assignment using an inplace method.\n",
      "The behavior will change in pandas 3.0. This inplace method will never work because the intermediate object on which we are setting values always behaves as a copy.\n",
      "\n",
      "For example, when doing 'df[col].method(value, inplace=True)', try using 'df.method({col: value}, inplace=True)' or df[col] = df[col].method(value) instead, to perform the operation inplace on the original object.\n",
      "\n",
      "\n",
      "  data.horsepower.fillna(data.horsepower.median(), inplace=True)\n"
     ]
    }
   ],
   "source": [
    "# Imputing the missing values with median value\n",
    "data['horsepower'] = data['horsepower'].astype('float64')  # converting the hp column from object data type to float\n",
    "data.horsepower.fillna(data.horsepower.median(), inplace=True)"
   ]
  },
  {
   "cell_type": "markdown",
   "metadata": {
    "id": "Ejfe_eP4vuje"
   },
   "source": [
    "#### Summary Statistics"
   ]
  },
  {
   "cell_type": "code",
   "execution_count": 24,
   "metadata": {
    "id": "bK37aYa5vuje",
    "outputId": "129bc052-b1ce-4068-e1cd-294675e97bfc"
   },
   "outputs": [
    {
     "data": {
      "text/html": [
       "<div>\n",
       "<style scoped>\n",
       "    .dataframe tbody tr th:only-of-type {\n",
       "        vertical-align: middle;\n",
       "    }\n",
       "\n",
       "    .dataframe tbody tr th {\n",
       "        vertical-align: top;\n",
       "    }\n",
       "\n",
       "    .dataframe thead th {\n",
       "        text-align: right;\n",
       "    }\n",
       "</style>\n",
       "<table border=\"1\" class=\"dataframe\">\n",
       "  <thead>\n",
       "    <tr style=\"text-align: right;\">\n",
       "      <th></th>\n",
       "      <th>count</th>\n",
       "      <th>mean</th>\n",
       "      <th>std</th>\n",
       "      <th>min</th>\n",
       "      <th>25%</th>\n",
       "      <th>50%</th>\n",
       "      <th>75%</th>\n",
       "      <th>max</th>\n",
       "    </tr>\n",
       "  </thead>\n",
       "  <tbody>\n",
       "    <tr>\n",
       "      <th>mpg</th>\n",
       "      <td>398.0</td>\n",
       "      <td>23.514573</td>\n",
       "      <td>7.815984</td>\n",
       "      <td>9.0</td>\n",
       "      <td>17.500</td>\n",
       "      <td>23.0</td>\n",
       "      <td>29.000</td>\n",
       "      <td>46.6</td>\n",
       "    </tr>\n",
       "    <tr>\n",
       "      <th>cylinders</th>\n",
       "      <td>398.0</td>\n",
       "      <td>5.454774</td>\n",
       "      <td>1.701004</td>\n",
       "      <td>3.0</td>\n",
       "      <td>4.000</td>\n",
       "      <td>4.0</td>\n",
       "      <td>8.000</td>\n",
       "      <td>8.0</td>\n",
       "    </tr>\n",
       "    <tr>\n",
       "      <th>displacement</th>\n",
       "      <td>398.0</td>\n",
       "      <td>193.425879</td>\n",
       "      <td>104.269838</td>\n",
       "      <td>68.0</td>\n",
       "      <td>104.250</td>\n",
       "      <td>148.5</td>\n",
       "      <td>262.000</td>\n",
       "      <td>455.0</td>\n",
       "    </tr>\n",
       "    <tr>\n",
       "      <th>horsepower</th>\n",
       "      <td>398.0</td>\n",
       "      <td>104.304020</td>\n",
       "      <td>38.222625</td>\n",
       "      <td>46.0</td>\n",
       "      <td>76.000</td>\n",
       "      <td>93.5</td>\n",
       "      <td>125.000</td>\n",
       "      <td>230.0</td>\n",
       "    </tr>\n",
       "    <tr>\n",
       "      <th>weight</th>\n",
       "      <td>398.0</td>\n",
       "      <td>2970.424623</td>\n",
       "      <td>846.841774</td>\n",
       "      <td>1613.0</td>\n",
       "      <td>2223.750</td>\n",
       "      <td>2803.5</td>\n",
       "      <td>3608.000</td>\n",
       "      <td>5140.0</td>\n",
       "    </tr>\n",
       "    <tr>\n",
       "      <th>acceleration</th>\n",
       "      <td>398.0</td>\n",
       "      <td>15.568090</td>\n",
       "      <td>2.757689</td>\n",
       "      <td>8.0</td>\n",
       "      <td>13.825</td>\n",
       "      <td>15.5</td>\n",
       "      <td>17.175</td>\n",
       "      <td>24.8</td>\n",
       "    </tr>\n",
       "    <tr>\n",
       "      <th>model year</th>\n",
       "      <td>398.0</td>\n",
       "      <td>76.010050</td>\n",
       "      <td>3.697627</td>\n",
       "      <td>70.0</td>\n",
       "      <td>73.000</td>\n",
       "      <td>76.0</td>\n",
       "      <td>79.000</td>\n",
       "      <td>82.0</td>\n",
       "    </tr>\n",
       "  </tbody>\n",
       "</table>\n",
       "</div>"
      ],
      "text/plain": [
       "              count         mean         std     min       25%     50%  \\\n",
       "mpg           398.0    23.514573    7.815984     9.0    17.500    23.0   \n",
       "cylinders     398.0     5.454774    1.701004     3.0     4.000     4.0   \n",
       "displacement  398.0   193.425879  104.269838    68.0   104.250   148.5   \n",
       "horsepower    398.0   104.304020   38.222625    46.0    76.000    93.5   \n",
       "weight        398.0  2970.424623  846.841774  1613.0  2223.750  2803.5   \n",
       "acceleration  398.0    15.568090    2.757689     8.0    13.825    15.5   \n",
       "model year    398.0    76.010050    3.697627    70.0    73.000    76.0   \n",
       "\n",
       "                   75%     max  \n",
       "mpg             29.000    46.6  \n",
       "cylinders        8.000     8.0  \n",
       "displacement   262.000   455.0  \n",
       "horsepower     125.000   230.0  \n",
       "weight        3608.000  5140.0  \n",
       "acceleration    17.175    24.8  \n",
       "model year      79.000    82.0  "
      ]
     },
     "execution_count": 24,
     "metadata": {},
     "output_type": "execute_result"
    }
   ],
   "source": [
    "data.describe().T"
   ]
  },
  {
   "cell_type": "markdown",
   "metadata": {
    "id": "YJB5hRFevuje"
   },
   "source": [
    "**Observation:**\n",
    "\n",
    "- The average mileage is approx 23 miles per gallon.\n",
    "- The average number of cylinders is approx 5.\n",
    "- The average displacement is approx 193 cubic inches with a standard deviation of approx 104 cubic inches.\n",
    "- The average horsepower is 104.\n",
    "- The average weight is approx 2970 lbs.\n",
    "- The average acceleration is approx 15 sec for reaching 0 to 60 mph speed.\n",
    "- The model year ranges from 1970 to 1982."
   ]
  },
  {
   "cell_type": "code",
   "execution_count": 28,
   "metadata": {},
   "outputs": [],
   "source": [
    "data['age'] = 2025 - (data['model year'] + 1900)  # creating a new column 'age' by subtracting the current year from the model year\n",
    "del data['model year']"
   ]
  },
  {
   "cell_type": "markdown",
   "metadata": {
    "id": "kNOc_6aZvujf"
   },
   "source": [
    "#### Let's check the distribution and outliers for each column in the data"
   ]
  },
  {
   "cell_type": "code",
   "execution_count": 29,
   "metadata": {
    "id": "w21FDMJSvujf",
    "outputId": "9cf6d49d-50bd-4b28-c21c-fb75ad743d32",
    "scrolled": false
   },
   "outputs": [
    {
     "name": "stdout",
     "output_type": "stream",
     "text": [
      "mpg\n",
      "Skew : 0.46\n"
     ]
    },
    {
     "data": {
      "image/png": "[encoded data removed]",
      "text/plain": [
       "<Figure size 1500x400 with 2 Axes>"
      ]
     },
     "metadata": {},
     "output_type": "display_data"
    },
    {
     "name": "stdout",
     "output_type": "stream",
     "text": [
      "cylinders\n",
      "Skew : 0.53\n"
     ]
    },
    {
     "data": {
      "image/png": "[encoded data removed]",
      "text/plain": [
       "<Figure size 1500x400 with 2 Axes>"
      ]
     },
     "metadata": {},
     "output_type": "display_data"
    },
    {
     "name": "stdout",
     "output_type": "stream",
     "text": [
      "displacement\n",
      "Skew : 0.72\n"
     ]
    },
    {
     "data": {
      "image/png": "[encoded data removed]",
      "text/plain": [
       "<Figure size 1500x400 with 2 Axes>"
      ]
     },
     "metadata": {},
     "output_type": "display_data"
    },
    {
     "name": "stdout",
     "output_type": "stream",
     "text": [
      "horsepower\n",
      "Skew : 1.11\n"
     ]
    },
    {
     "data": {
      "image/png": "[encoded data removed]",
      "text/plain": [
       "<Figure size 1500x400 with 2 Axes>"
      ]
     },
     "metadata": {},
     "output_type": "display_data"
    },
    {
     "name": "stdout",
     "output_type": "stream",
     "text": [
      "weight\n",
      "Skew : 0.53\n"
     ]
    },
    {
     "data": {
      "image/png": "[encoded data removed]",
      "text/plain": [
       "<Figure size 1500x400 with 2 Axes>"
      ]
     },
     "metadata": {},
     "output_type": "display_data"
    },
    {
     "name": "stdout",
     "output_type": "stream",
     "text": [
      "acceleration\n",
      "Skew : 0.28\n"
     ]
    },
    {
     "data": {
      "image/png": "[encoded data removed]",
      "text/plain": [
       "<Figure size 1500x400 with 2 Axes>"
      ]
     },
     "metadata": {},
     "output_type": "display_data"
    },
    {
     "name": "stdout",
     "output_type": "stream",
     "text": [
      "age\n",
      "Skew : -0.01\n"
     ]
    },
    {
     "data": {
      "image/png": "[encoded data removed]",
      "text/plain": [
       "<Figure size 1500x400 with 2 Axes>"
      ]
     },
     "metadata": {},
     "output_type": "display_data"
    }
   ],
   "source": [
    "for col in data.columns:\n",
    "    print(col)\n",
    "    print('Skew :',round(data[col].skew(),2))\n",
    "    plt.figure(figsize=(15,4))\n",
    "    plt.subplot(1,2,1)\n",
    "    data[col].hist(bins=10, grid=False)\n",
    "    plt.ylabel('count')\n",
    "    plt.subplot(1,2,2)\n",
    "    sns.boxplot(x=data[col])\n",
    "    plt.show()"
   ]
  },
  {
   "cell_type": "markdown",
   "metadata": {
    "id": "Ny5YaZhvvujf"
   },
   "source": [
    "**Observations:**\n",
    "- The mpg, displacement, weight columns are right skewed.\n",
    "- The most common number of cylinders is 4.\n",
    "- The acceleration is normally distributed. \n",
    "- Most number of cars are 76 or 77 year model.\n",
    "- No variable has very extreme values in the data."
   ]
  },
  {
   "cell_type": "markdown",
   "metadata": {
    "id": "d6Vqxb0-u4D4"
   },
   "source": [
    "#### Checking correlation"
   ]
  },
  {
   "cell_type": "code",
   "execution_count": 31,
   "metadata": {
    "id": "VP3jF_XJvujg",
    "outputId": "888a9007-0881-4fbc-fe60-8d1bdcb21afd"
   },
   "outputs": [
    {
     "data": {
      "image/png": "[encoded data removed]",
      "text/plain": [
       "<Figure size 800x800 with 2 Axes>"
      ]
     },
     "metadata": {},
     "output_type": "display_data"
    }
   ],
   "source": [
    "plt.figure(figsize=(8,8))\n",
    "sns.heatmap(data.corr(), annot=True, vmax=1, vmin=-1, center=0, cmap='coolwarm', square=True)\n",
    "plt.show()"
   ]
  },
  {
   "cell_type": "markdown",
   "metadata": {
    "id": "a71M7-jdvujg"
   },
   "source": [
    "**Observations:**\n",
    "- The variable mpg has strong negative correlation with cylinders, displacement, horsepower, and weight.\n",
    "- horsepower and acceleration are negatively correlated.\n",
    "- The variable weight has strong positively correlation with horsepower, displacement and cylinders\n",
    "- model year is positively correlated with mpg."
   ]
  },
  {
   "cell_type": "markdown",
   "metadata": {
    "id": "WVuQ8rRuvujg"
   },
   "source": [
    "#### Scaling the data"
   ]
  },
  {
   "cell_type": "code",
   "execution_count": 35,
   "metadata": {
    "id": "PWPOuZzwu4D5"
   },
   "outputs": [],
   "source": [
    "# scaling the data\n",
    "scaler=StandardScaler()\n",
    "data_scaled=pd.DataFrame(scaler.fit_transform(data), columns=data.columns)\n",
    "data_scaled.index = data.index"
   ]
  },
  {
   "cell_type": "code",
   "execution_count": 38,
   "metadata": {
    "id": "zj6upuANvujh",
    "outputId": "f2ebdab6-9906-46fb-8782-55eb129965e1"
   },
   "outputs": [
    {
     "data": {
      "text/html": [
       "<div>\n",
       "<style scoped>\n",
       "    .dataframe tbody tr th:only-of-type {\n",
       "        vertical-align: middle;\n",
       "    }\n",
       "\n",
       "    .dataframe tbody tr th {\n",
       "        vertical-align: top;\n",
       "    }\n",
       "\n",
       "    .dataframe thead th {\n",
       "        text-align: right;\n",
       "    }\n",
       "</style>\n",
       "<table border=\"1\" class=\"dataframe\">\n",
       "  <thead>\n",
       "    <tr style=\"text-align: right;\">\n",
       "      <th></th>\n",
       "      <th>mpg</th>\n",
       "      <th>cylinders</th>\n",
       "      <th>displacement</th>\n",
       "      <th>horsepower</th>\n",
       "      <th>weight</th>\n",
       "      <th>acceleration</th>\n",
       "      <th>age</th>\n",
       "    </tr>\n",
       "    <tr>\n",
       "      <th>car name</th>\n",
       "      <th></th>\n",
       "      <th></th>\n",
       "      <th></th>\n",
       "      <th></th>\n",
       "      <th></th>\n",
       "      <th></th>\n",
       "      <th></th>\n",
       "    </tr>\n",
       "  </thead>\n",
       "  <tbody>\n",
       "    <tr>\n",
       "      <th>chevrolet chevelle malibu</th>\n",
       "      <td>-0.706439</td>\n",
       "      <td>1.498191</td>\n",
       "      <td>1.090604</td>\n",
       "      <td>0.673118</td>\n",
       "      <td>0.630870</td>\n",
       "      <td>-1.295498</td>\n",
       "      <td>1.627426</td>\n",
       "    </tr>\n",
       "    <tr>\n",
       "      <th>buick skylark 320</th>\n",
       "      <td>-1.090751</td>\n",
       "      <td>1.498191</td>\n",
       "      <td>1.503514</td>\n",
       "      <td>1.589958</td>\n",
       "      <td>0.854333</td>\n",
       "      <td>-1.477038</td>\n",
       "      <td>1.627426</td>\n",
       "    </tr>\n",
       "    <tr>\n",
       "      <th>plymouth satellite</th>\n",
       "      <td>-0.706439</td>\n",
       "      <td>1.498191</td>\n",
       "      <td>1.196232</td>\n",
       "      <td>1.197027</td>\n",
       "      <td>0.550470</td>\n",
       "      <td>-1.658577</td>\n",
       "      <td>1.627426</td>\n",
       "    </tr>\n",
       "    <tr>\n",
       "      <th>amc rebel sst</th>\n",
       "      <td>-0.962647</td>\n",
       "      <td>1.498191</td>\n",
       "      <td>1.061796</td>\n",
       "      <td>1.197027</td>\n",
       "      <td>0.546923</td>\n",
       "      <td>-1.295498</td>\n",
       "      <td>1.627426</td>\n",
       "    </tr>\n",
       "    <tr>\n",
       "      <th>ford torino</th>\n",
       "      <td>-0.834543</td>\n",
       "      <td>1.498191</td>\n",
       "      <td>1.042591</td>\n",
       "      <td>0.935072</td>\n",
       "      <td>0.565841</td>\n",
       "      <td>-1.840117</td>\n",
       "      <td>1.627426</td>\n",
       "    </tr>\n",
       "    <tr>\n",
       "      <th>ford galaxie 500</th>\n",
       "      <td>-1.090751</td>\n",
       "      <td>1.498191</td>\n",
       "      <td>2.262118</td>\n",
       "      <td>2.454408</td>\n",
       "      <td>1.620492</td>\n",
       "      <td>-2.021656</td>\n",
       "      <td>1.627426</td>\n",
       "    </tr>\n",
       "    <tr>\n",
       "      <th>chevrolet impala</th>\n",
       "      <td>-1.218855</td>\n",
       "      <td>1.498191</td>\n",
       "      <td>2.502182</td>\n",
       "      <td>3.030708</td>\n",
       "      <td>1.635863</td>\n",
       "      <td>-2.384735</td>\n",
       "      <td>1.627426</td>\n",
       "    </tr>\n",
       "    <tr>\n",
       "      <th>plymouth fury iii</th>\n",
       "      <td>-1.218855</td>\n",
       "      <td>1.498191</td>\n",
       "      <td>2.367746</td>\n",
       "      <td>2.899730</td>\n",
       "      <td>1.586204</td>\n",
       "      <td>-2.566274</td>\n",
       "      <td>1.627426</td>\n",
       "    </tr>\n",
       "    <tr>\n",
       "      <th>pontiac catalina</th>\n",
       "      <td>-1.218855</td>\n",
       "      <td>1.498191</td>\n",
       "      <td>2.511784</td>\n",
       "      <td>3.161685</td>\n",
       "      <td>1.719809</td>\n",
       "      <td>-2.021656</td>\n",
       "      <td>1.627426</td>\n",
       "    </tr>\n",
       "    <tr>\n",
       "      <th>amc ambassador dpl</th>\n",
       "      <td>-1.090751</td>\n",
       "      <td>1.498191</td>\n",
       "      <td>1.887617</td>\n",
       "      <td>2.244844</td>\n",
       "      <td>1.039961</td>\n",
       "      <td>-2.566274</td>\n",
       "      <td>1.627426</td>\n",
       "    </tr>\n",
       "    <tr>\n",
       "      <th>dodge challenger se</th>\n",
       "      <td>-1.090751</td>\n",
       "      <td>1.498191</td>\n",
       "      <td>1.820399</td>\n",
       "      <td>1.720935</td>\n",
       "      <td>0.700628</td>\n",
       "      <td>-2.021656</td>\n",
       "      <td>1.627426</td>\n",
       "    </tr>\n",
       "    <tr>\n",
       "      <th>plymouth 'cuda 340</th>\n",
       "      <td>-1.218855</td>\n",
       "      <td>1.498191</td>\n",
       "      <td>1.407489</td>\n",
       "      <td>1.458981</td>\n",
       "      <td>0.755016</td>\n",
       "      <td>-2.747814</td>\n",
       "      <td>1.627426</td>\n",
       "    </tr>\n",
       "    <tr>\n",
       "      <th>chevrolet monte carlo</th>\n",
       "      <td>-1.090751</td>\n",
       "      <td>1.498191</td>\n",
       "      <td>1.983643</td>\n",
       "      <td>1.197027</td>\n",
       "      <td>0.934732</td>\n",
       "      <td>-2.203196</td>\n",
       "      <td>1.627426</td>\n",
       "    </tr>\n",
       "    <tr>\n",
       "      <th>buick estate wagon (sw)</th>\n",
       "      <td>-1.218855</td>\n",
       "      <td>1.498191</td>\n",
       "      <td>2.511784</td>\n",
       "      <td>3.161685</td>\n",
       "      <td>0.136650</td>\n",
       "      <td>-2.021656</td>\n",
       "      <td>1.627426</td>\n",
       "    </tr>\n",
       "    <tr>\n",
       "      <th>toyota corona mark ii</th>\n",
       "      <td>0.062185</td>\n",
       "      <td>-0.856321</td>\n",
       "      <td>-0.772295</td>\n",
       "      <td>-0.243723</td>\n",
       "      <td>-0.707544</td>\n",
       "      <td>-0.206262</td>\n",
       "      <td>1.627426</td>\n",
       "    </tr>\n",
       "    <tr>\n",
       "      <th>plymouth duster</th>\n",
       "      <td>-0.194023</td>\n",
       "      <td>0.320935</td>\n",
       "      <td>0.043923</td>\n",
       "      <td>-0.243723</td>\n",
       "      <td>-0.162483</td>\n",
       "      <td>-0.024722</td>\n",
       "      <td>1.627426</td>\n",
       "    </tr>\n",
       "    <tr>\n",
       "      <th>amc hornet</th>\n",
       "      <td>-0.706439</td>\n",
       "      <td>0.320935</td>\n",
       "      <td>0.053526</td>\n",
       "      <td>-0.191332</td>\n",
       "      <td>-0.232242</td>\n",
       "      <td>-0.024722</td>\n",
       "      <td>1.627426</td>\n",
       "    </tr>\n",
       "    <tr>\n",
       "      <th>ford maverick</th>\n",
       "      <td>-0.322127</td>\n",
       "      <td>0.320935</td>\n",
       "      <td>0.063128</td>\n",
       "      <td>-0.505677</td>\n",
       "      <td>-0.453340</td>\n",
       "      <td>0.156817</td>\n",
       "      <td>1.627426</td>\n",
       "    </tr>\n",
       "    <tr>\n",
       "      <th>datsun pl510</th>\n",
       "      <td>0.446497</td>\n",
       "      <td>-0.856321</td>\n",
       "      <td>-0.925936</td>\n",
       "      <td>-0.427091</td>\n",
       "      <td>-0.993671</td>\n",
       "      <td>-0.387801</td>\n",
       "      <td>1.627426</td>\n",
       "    </tr>\n",
       "    <tr>\n",
       "      <th>volkswagen 1131 deluxe sedan</th>\n",
       "      <td>0.318393</td>\n",
       "      <td>-0.856321</td>\n",
       "      <td>-0.925936</td>\n",
       "      <td>-1.527300</td>\n",
       "      <td>-1.342463</td>\n",
       "      <td>1.790672</td>\n",
       "      <td>1.627426</td>\n",
       "    </tr>\n",
       "  </tbody>\n",
       "</table>\n",
       "</div>"
      ],
      "text/plain": [
       "                                   mpg  cylinders  displacement  horsepower  \\\n",
       "car name                                                                      \n",
       "chevrolet chevelle malibu    -0.706439   1.498191      1.090604    0.673118   \n",
       "buick skylark 320            -1.090751   1.498191      1.503514    1.589958   \n",
       "plymouth satellite           -0.706439   1.498191      1.196232    1.197027   \n",
       "amc rebel sst                -0.962647   1.498191      1.061796    1.197027   \n",
       "ford torino                  -0.834543   1.498191      1.042591    0.935072   \n",
       "ford galaxie 500             -1.090751   1.498191      2.262118    2.454408   \n",
       "chevrolet impala             -1.218855   1.498191      2.502182    3.030708   \n",
       "plymouth fury iii            -1.218855   1.498191      2.367746    2.899730   \n",
       "pontiac catalina             -1.218855   1.498191      2.511784    3.161685   \n",
       "amc ambassador dpl           -1.090751   1.498191      1.887617    2.244844   \n",
       "dodge challenger se          -1.090751   1.498191      1.820399    1.720935   \n",
       "plymouth 'cuda 340           -1.218855   1.498191      1.407489    1.458981   \n",
       "chevrolet monte carlo        -1.090751   1.498191      1.983643    1.197027   \n",
       "buick estate wagon (sw)      -1.218855   1.498191      2.511784    3.161685   \n",
       "toyota corona mark ii         0.062185  -0.856321     -0.772295   -0.243723   \n",
       "plymouth duster              -0.194023   0.320935      0.043923   -0.243723   \n",
       "amc hornet                   -0.706439   0.320935      0.053526   -0.191332   \n",
       "ford maverick                -0.322127   0.320935      0.063128   -0.505677   \n",
       "datsun pl510                  0.446497  -0.856321     -0.925936   -0.427091   \n",
       "volkswagen 1131 deluxe sedan  0.318393  -0.856321     -0.925936   -1.527300   \n",
       "\n",
       "                                weight  acceleration       age  \n",
       "car name                                                        \n",
       "chevrolet chevelle malibu     0.630870     -1.295498  1.627426  \n",
       "buick skylark 320             0.854333     -1.477038  1.627426  \n",
       "plymouth satellite            0.550470     -1.658577  1.627426  \n",
       "amc rebel sst                 0.546923     -1.295498  1.627426  \n",
       "ford torino                   0.565841     -1.840117  1.627426  \n",
       "ford galaxie 500              1.620492     -2.021656  1.627426  \n",
       "chevrolet impala              1.635863     -2.384735  1.627426  \n",
       "plymouth fury iii             1.586204     -2.566274  1.627426  \n",
       "pontiac catalina              1.719809     -2.021656  1.627426  \n",
       "amc ambassador dpl            1.039961     -2.566274  1.627426  \n",
       "dodge challenger se           0.700628     -2.021656  1.627426  \n",
       "plymouth 'cuda 340            0.755016     -2.747814  1.627426  \n",
       "chevrolet monte carlo         0.934732     -2.203196  1.627426  \n",
       "buick estate wagon (sw)       0.136650     -2.021656  1.627426  \n",
       "toyota corona mark ii        -0.707544     -0.206262  1.627426  \n",
       "plymouth duster              -0.162483     -0.024722  1.627426  \n",
       "amc hornet                   -0.232242     -0.024722  1.627426  \n",
       "ford maverick                -0.453340      0.156817  1.627426  \n",
       "datsun pl510                 -0.993671     -0.387801  1.627426  \n",
       "volkswagen 1131 deluxe sedan -1.342463      1.790672  1.627426  "
      ]
     },
     "execution_count": 38,
     "metadata": {},
     "output_type": "execute_result"
    }
   ],
   "source": [
    "data_scaled.head(20)"
   ]
  },
  {
   "cell_type": "markdown",
   "metadata": {
    "id": "eIAZ2xZuvujh"
   },
   "source": [
    "## Principal Component Analysis"
   ]
  },
  {
   "cell_type": "code",
   "execution_count": 41,
   "metadata": {
    "id": "SqS_ahV0vuji"
   },
   "outputs": [
    {
     "data": {
      "text/html": [
       "<div>\n",
       "<style scoped>\n",
       "    .dataframe tbody tr th:only-of-type {\n",
       "        vertical-align: middle;\n",
       "    }\n",
       "\n",
       "    .dataframe tbody tr th {\n",
       "        vertical-align: top;\n",
       "    }\n",
       "\n",
       "    .dataframe thead th {\n",
       "        text-align: right;\n",
       "    }\n",
       "</style>\n",
       "<table border=\"1\" class=\"dataframe\">\n",
       "  <thead>\n",
       "    <tr style=\"text-align: right;\">\n",
       "      <th></th>\n",
       "      <th>0</th>\n",
       "      <th>1</th>\n",
       "      <th>2</th>\n",
       "      <th>3</th>\n",
       "      <th>4</th>\n",
       "      <th>5</th>\n",
       "      <th>6</th>\n",
       "    </tr>\n",
       "    <tr>\n",
       "      <th>car name</th>\n",
       "      <th></th>\n",
       "      <th></th>\n",
       "      <th></th>\n",
       "      <th></th>\n",
       "      <th></th>\n",
       "      <th></th>\n",
       "      <th></th>\n",
       "    </tr>\n",
       "  </thead>\n",
       "  <tbody>\n",
       "    <tr>\n",
       "      <th>chevrolet chevelle malibu</th>\n",
       "      <td>2.661556</td>\n",
       "      <td>0.918577</td>\n",
       "      <td>-0.558420</td>\n",
       "      <td>0.740000</td>\n",
       "      <td>-0.549433</td>\n",
       "      <td>0.089079</td>\n",
       "      <td>-0.118566</td>\n",
       "    </tr>\n",
       "    <tr>\n",
       "      <th>buick skylark 320</th>\n",
       "      <td>3.523307</td>\n",
       "      <td>0.789779</td>\n",
       "      <td>-0.670658</td>\n",
       "      <td>0.493223</td>\n",
       "      <td>-0.025134</td>\n",
       "      <td>-0.203588</td>\n",
       "      <td>0.101518</td>\n",
       "    </tr>\n",
       "    <tr>\n",
       "      <th>plymouth satellite</th>\n",
       "      <td>2.998309</td>\n",
       "      <td>0.861604</td>\n",
       "      <td>-0.982108</td>\n",
       "      <td>0.715598</td>\n",
       "      <td>-0.281324</td>\n",
       "      <td>-0.137351</td>\n",
       "      <td>-0.055167</td>\n",
       "    </tr>\n",
       "    <tr>\n",
       "      <th>amc rebel sst</th>\n",
       "      <td>2.937560</td>\n",
       "      <td>0.949168</td>\n",
       "      <td>-0.607196</td>\n",
       "      <td>0.531084</td>\n",
       "      <td>-0.272607</td>\n",
       "      <td>-0.295916</td>\n",
       "      <td>-0.121296</td>\n",
       "    </tr>\n",
       "    <tr>\n",
       "      <th>ford torino</th>\n",
       "      <td>2.930688</td>\n",
       "      <td>0.931822</td>\n",
       "      <td>-1.078890</td>\n",
       "      <td>0.558607</td>\n",
       "      <td>-0.543871</td>\n",
       "      <td>-0.007707</td>\n",
       "      <td>-0.167301</td>\n",
       "    </tr>\n",
       "  </tbody>\n",
       "</table>\n",
       "</div>"
      ],
      "text/plain": [
       "                                  0         1         2         3         4  \\\n",
       "car name                                                                      \n",
       "chevrolet chevelle malibu  2.661556  0.918577 -0.558420  0.740000 -0.549433   \n",
       "buick skylark 320          3.523307  0.789779 -0.670658  0.493223 -0.025134   \n",
       "plymouth satellite         2.998309  0.861604 -0.982108  0.715598 -0.281324   \n",
       "amc rebel sst              2.937560  0.949168 -0.607196  0.531084 -0.272607   \n",
       "ford torino                2.930688  0.931822 -1.078890  0.558607 -0.543871   \n",
       "\n",
       "                                  5         6  \n",
       "car name                                       \n",
       "chevrolet chevelle malibu  0.089079 -0.118566  \n",
       "buick skylark 320         -0.203588  0.101518  \n",
       "plymouth satellite        -0.137351 -0.055167  \n",
       "amc rebel sst             -0.295916 -0.121296  \n",
       "ford torino               -0.007707 -0.167301  "
      ]
     },
     "execution_count": 41,
     "metadata": {},
     "output_type": "execute_result"
    }
   ],
   "source": [
    "#Defining the number of principal components to generate \n",
    "n=data_scaled.shape[1]\n",
    "\n",
    "#Finding principal components for the data\n",
    "pca = PCA(n_components=n, random_state=1)\n",
    "data_pca1 = pd.DataFrame(pca.fit_transform(data_scaled))\n",
    "data_pca1.index = data_scaled.index\n",
    "data_pca1.head()"
   ]
  },
  {
   "cell_type": "code",
   "execution_count": 45,
   "metadata": {},
   "outputs": [
    {
     "name": "stdout",
     "output_type": "stream",
     "text": [
      "Eigenvalues of each principal component:\n",
      "[5.01597803 0.86776811 0.73081915 0.18750889 0.1248168  0.05550168\n",
      " 0.03523958]\n"
     ]
    }
   ],
   "source": [
    "#Print the explained variance i.e. Eigenvalues of each principal component\n",
    "print(\"Eigenvalues of each principal component:\")\n",
    "print(pca.explained_variance_)\n",
    "\n",
    "#The percentage of variance explained by each principal component\n",
    "exp_var = pca.explained_variance_ratio_"
   ]
  },
  {
   "cell_type": "code",
   "execution_count": 16,
   "metadata": {
    "id": "1OiDLM52vuji",
    "outputId": "a19b17aa-644e-457f-ce5b-df84a4c792ae"
   },
   "outputs": [
    {
     "data": {
      "text/plain": [
       "Text(0, 0.5, 'Cumulative Explained Variance')"
      ]
     },
     "execution_count": 16,
     "metadata": {},
     "output_type": "execute_result"
    },
    {
     "data": {
      "image/png": "[encoded data removed]",
      "text/plain": [
       "<Figure size 720x720 with 1 Axes>"
      ]
     },
     "metadata": {
      "needs_background": "light"
     },
     "output_type": "display_data"
    }
   ],
   "source": [
    "# visualize the explained variance by individual components\n",
    "plt.figure(figsize = (10,10))\n",
    "plt.plot(range(1,8), exp_var.cumsum(), marker = 'o', linestyle = '--')\n",
    "plt.title(\"Explained Variances by Components\")\n",
    "plt.xlabel(\"Number of Components\")\n",
    "plt.ylabel(\"Cumulative Explained Variance\")"
   ]
  },
  {
   "cell_type": "code",
   "execution_count": 48,
   "metadata": {
    "id": "qclnWlJ9vujj",
    "outputId": "d0a90e0f-be3d-4cd0-ca40-5e506efb09d3"
   },
   "outputs": [
    {
     "name": "stdout",
     "output_type": "stream",
     "text": [
      "Number of PCs that explain at least 90% variance:  3\n"
     ]
    }
   ],
   "source": [
    "# find the least number of components that can explain more than 90% variance\n",
    "sum = 0\n",
    "for ix, i in enumerate(exp_var):\n",
    "  sum = sum + i\n",
    "  if(sum>0.90):\n",
    "    print(\"Number of PCs that explain at least 90% variance: \", ix+1)\n",
    "    break"
   ]
  },
  {
   "cell_type": "markdown",
   "metadata": {
    "id": "-P3Hl-3Pvujj"
   },
   "source": [
    "**Observations**:\n",
    "-  We can see that out of the 7 original features, we reduced the number of features through principal components to 3, these components explain more than 90% of the original variance.\n",
    "- So that is about 57% reduction in the dimensionality with a loss of 10% in variance.\n",
    "- Let us now look at these principal components as a linear combination of original features."
   ]
  },
  {
   "cell_type": "code",
   "execution_count": 49,
   "metadata": {
    "id": "_G_-CsZJvujj",
    "outputId": "bcdbe123-e1f6-470b-ded9-91d18eeaf1a1"
   },
   "outputs": [
    {
     "data": {
      "text/html": [
       "<div>\n",
       "<style scoped>\n",
       "    .dataframe tbody tr th:only-of-type {\n",
       "        vertical-align: middle;\n",
       "    }\n",
       "\n",
       "    .dataframe tbody tr th {\n",
       "        vertical-align: top;\n",
       "    }\n",
       "\n",
       "    .dataframe thead th {\n",
       "        text-align: right;\n",
       "    }\n",
       "</style>\n",
       "<table border=\"1\" class=\"dataframe\">\n",
       "  <thead>\n",
       "    <tr style=\"text-align: right;\">\n",
       "      <th></th>\n",
       "      <th>PC1</th>\n",
       "      <th>PC2</th>\n",
       "      <th>PC3</th>\n",
       "    </tr>\n",
       "  </thead>\n",
       "  <tbody>\n",
       "    <tr>\n",
       "      <th>mpg</th>\n",
       "      <td>-0.40</td>\n",
       "      <td>-0.21</td>\n",
       "      <td>-0.26</td>\n",
       "    </tr>\n",
       "    <tr>\n",
       "      <th>cylinders</th>\n",
       "      <td>0.42</td>\n",
       "      <td>-0.19</td>\n",
       "      <td>0.14</td>\n",
       "    </tr>\n",
       "    <tr>\n",
       "      <th>displacement</th>\n",
       "      <td>0.43</td>\n",
       "      <td>-0.18</td>\n",
       "      <td>0.10</td>\n",
       "    </tr>\n",
       "    <tr>\n",
       "      <th>horsepower</th>\n",
       "      <td>0.42</td>\n",
       "      <td>-0.09</td>\n",
       "      <td>-0.17</td>\n",
       "    </tr>\n",
       "    <tr>\n",
       "      <th>weight</th>\n",
       "      <td>0.41</td>\n",
       "      <td>-0.22</td>\n",
       "      <td>0.28</td>\n",
       "    </tr>\n",
       "    <tr>\n",
       "      <th>acceleration</th>\n",
       "      <td>-0.28</td>\n",
       "      <td>0.02</td>\n",
       "      <td>0.89</td>\n",
       "    </tr>\n",
       "    <tr>\n",
       "      <th>age</th>\n",
       "      <td>0.23</td>\n",
       "      <td>0.91</td>\n",
       "      <td>0.02</td>\n",
       "    </tr>\n",
       "  </tbody>\n",
       "</table>\n",
       "</div>"
      ],
      "text/plain": [
       "               PC1   PC2   PC3\n",
       "mpg          -0.40 -0.21 -0.26\n",
       "cylinders     0.42 -0.19  0.14\n",
       "displacement  0.43 -0.18  0.10\n",
       "horsepower    0.42 -0.09 -0.17\n",
       "weight        0.41 -0.22  0.28\n",
       "acceleration -0.28  0.02  0.89\n",
       "age           0.23  0.91  0.02"
      ]
     },
     "execution_count": 49,
     "metadata": {},
     "output_type": "execute_result"
    }
   ],
   "source": [
    "pc_comps = ['PC1','PC2','PC3']\n",
    "data_pca = pd.DataFrame(np.round(pca.components_[:3,:],2),index=pc_comps,columns=data_scaled.columns)\n",
    "data_pca.T"
   ]
  },
  {
   "cell_type": "code",
   "execution_count": 50,
   "metadata": {
    "id": "mi16_6Bxvujk",
    "outputId": "5a1d6297-5d23-4588-d369-64a694b72b18"
   },
   "outputs": [
    {
     "name": "stderr",
     "output_type": "stream",
     "text": [
      "C:\\Users\\N10389\\AppData\\Local\\Temp\\ipykernel_11708\\1273721504.py:7: FutureWarning: Styler.applymap has been deprecated. Use Styler.map instead.\n",
      "  data_pca.T.style.applymap(color_high)\n"
     ]
    },
    {
     "data": {
      "text/html": [
       "<style type=\"text/css\">\n",
       "#T_7ee95_row0_col0 {\n",
       "  background: pink;\n",
       "}\n",
       "#T_7ee95_row1_col0, #T_7ee95_row2_col0, #T_7ee95_row3_col0, #T_7ee95_row4_col0, #T_7ee95_row5_col2, #T_7ee95_row6_col1 {\n",
       "  background: skyblue;\n",
       "}\n",
       "</style>\n",
       "<table id=\"T_7ee95\">\n",
       "  <thead>\n",
       "    <tr>\n",
       "      <th class=\"blank level0\" >&nbsp;</th>\n",
       "      <th id=\"T_7ee95_level0_col0\" class=\"col_heading level0 col0\" >PC1</th>\n",
       "      <th id=\"T_7ee95_level0_col1\" class=\"col_heading level0 col1\" >PC2</th>\n",
       "      <th id=\"T_7ee95_level0_col2\" class=\"col_heading level0 col2\" >PC3</th>\n",
       "    </tr>\n",
       "  </thead>\n",
       "  <tbody>\n",
       "    <tr>\n",
       "      <th id=\"T_7ee95_level0_row0\" class=\"row_heading level0 row0\" >mpg</th>\n",
       "      <td id=\"T_7ee95_row0_col0\" class=\"data row0 col0\" >-0.400000</td>\n",
       "      <td id=\"T_7ee95_row0_col1\" class=\"data row0 col1\" >-0.210000</td>\n",
       "      <td id=\"T_7ee95_row0_col2\" class=\"data row0 col2\" >-0.260000</td>\n",
       "    </tr>\n",
       "    <tr>\n",
       "      <th id=\"T_7ee95_level0_row1\" class=\"row_heading level0 row1\" >cylinders</th>\n",
       "      <td id=\"T_7ee95_row1_col0\" class=\"data row1 col0\" >0.420000</td>\n",
       "      <td id=\"T_7ee95_row1_col1\" class=\"data row1 col1\" >-0.190000</td>\n",
       "      <td id=\"T_7ee95_row1_col2\" class=\"data row1 col2\" >0.140000</td>\n",
       "    </tr>\n",
       "    <tr>\n",
       "      <th id=\"T_7ee95_level0_row2\" class=\"row_heading level0 row2\" >displacement</th>\n",
       "      <td id=\"T_7ee95_row2_col0\" class=\"data row2 col0\" >0.430000</td>\n",
       "      <td id=\"T_7ee95_row2_col1\" class=\"data row2 col1\" >-0.180000</td>\n",
       "      <td id=\"T_7ee95_row2_col2\" class=\"data row2 col2\" >0.100000</td>\n",
       "    </tr>\n",
       "    <tr>\n",
       "      <th id=\"T_7ee95_level0_row3\" class=\"row_heading level0 row3\" >horsepower</th>\n",
       "      <td id=\"T_7ee95_row3_col0\" class=\"data row3 col0\" >0.420000</td>\n",
       "      <td id=\"T_7ee95_row3_col1\" class=\"data row3 col1\" >-0.090000</td>\n",
       "      <td id=\"T_7ee95_row3_col2\" class=\"data row3 col2\" >-0.170000</td>\n",
       "    </tr>\n",
       "    <tr>\n",
       "      <th id=\"T_7ee95_level0_row4\" class=\"row_heading level0 row4\" >weight</th>\n",
       "      <td id=\"T_7ee95_row4_col0\" class=\"data row4 col0\" >0.410000</td>\n",
       "      <td id=\"T_7ee95_row4_col1\" class=\"data row4 col1\" >-0.220000</td>\n",
       "      <td id=\"T_7ee95_row4_col2\" class=\"data row4 col2\" >0.280000</td>\n",
       "    </tr>\n",
       "    <tr>\n",
       "      <th id=\"T_7ee95_level0_row5\" class=\"row_heading level0 row5\" >acceleration</th>\n",
       "      <td id=\"T_7ee95_row5_col0\" class=\"data row5 col0\" >-0.280000</td>\n",
       "      <td id=\"T_7ee95_row5_col1\" class=\"data row5 col1\" >0.020000</td>\n",
       "      <td id=\"T_7ee95_row5_col2\" class=\"data row5 col2\" >0.890000</td>\n",
       "    </tr>\n",
       "    <tr>\n",
       "      <th id=\"T_7ee95_level0_row6\" class=\"row_heading level0 row6\" >age</th>\n",
       "      <td id=\"T_7ee95_row6_col0\" class=\"data row6 col0\" >0.230000</td>\n",
       "      <td id=\"T_7ee95_row6_col1\" class=\"data row6 col1\" >0.910000</td>\n",
       "      <td id=\"T_7ee95_row6_col2\" class=\"data row6 col2\" >0.020000</td>\n",
       "    </tr>\n",
       "  </tbody>\n",
       "</table>\n"
      ],
      "text/plain": [
       "<pandas.io.formats.style.Styler at 0x1d184647250>"
      ]
     },
     "execution_count": 50,
     "metadata": {},
     "output_type": "execute_result"
    }
   ],
   "source": [
    "def color_high(val):\n",
    "    if val <= -0.40: # you can decide any value as per your understanding\n",
    "        return 'background: pink'\n",
    "    elif val >= 0.40:\n",
    "        return 'background: skyblue'   \n",
    "    \n",
    "data_pca.T.style.applymap(color_high)"
   ]
  },
  {
   "cell_type": "markdown",
   "metadata": {
    "id": "oG5orJKGvujk"
   },
   "source": [
    "**Observations:**\n",
    "\n",
    "- Each principal component is a linear combination of original features. For example, we can write the equation for PC1 in the following manner:\n",
    "\n",
    "-0.40 * mpg + 0.42 * cylinders + 0.43 * displacement + 0.42 * horsepower + 0.41 * weight - 0.28 * acceleration - 0.23 * model year\n",
    "\n",
    "- The first principal component, PC1, is a measure of mpg, cylinders, displacement, horsepower, and weight. PC1 is associated with high scores of all these variables, except mpg, as these variables have positive weights. PC1 is associated with low values of mpg. This principal component seems to capture attributes that generally define cars with heavy engines with high number of cylinders, displacement, horsepower and weight and a a result of heavy engines such cars would have low mileage.\n",
    "- The second principal component, PC2, is a measure of model year. PC2 is associated with low values of model year.\n",
    "- The third principal component, PC3, is a measure of the acceleration."
   ]
  },
  {
   "cell_type": "markdown",
   "metadata": {
    "id": "jZo1h9pNvujk"
   },
   "source": [
    "#### We can also visualize the data in 2 dimensions using first two principal components "
   ]
  },
  {
   "cell_type": "code",
   "execution_count": 51,
   "metadata": {
    "id": "7iWxTqHfvujl",
    "outputId": "c19271e0-592d-4875-896c-5b476f22bf20"
   },
   "outputs": [
    {
     "data": {
      "image/png": "[encoded data removed]",
      "text/plain": [
       "<Figure size 700x700 with 1 Axes>"
      ]
     },
     "metadata": {},
     "output_type": "display_data"
    }
   ],
   "source": [
    "plt.figure(figsize = (7,7))\n",
    "sns.scatterplot(x=data_pca1[0],y=data_pca1[1])\n",
    "plt.xlabel(\"PC1\")\n",
    "plt.ylabel(\"PC2\")\n",
    "plt.show()"
   ]
  },
  {
   "cell_type": "markdown",
   "metadata": {
    "id": "eH9VeKRBvujl"
   },
   "source": [
    "**Let's try adding hue to the scatter plot**"
   ]
  },
  {
   "cell_type": "markdown",
   "metadata": {
    "id": "13kD-jNtvujl"
   },
   "source": [
    "**Creating scatter plot for first two principal components with hue= 'cylinders'**"
   ]
  },
  {
   "cell_type": "code",
   "execution_count": 53,
   "metadata": {
    "id": "VrB1kzKpvujl",
    "outputId": "4afc14af-3b06-4f63-b345-3d7cb46ba165"
   },
   "outputs": [
    {
     "data": {
      "text/plain": [
       "Text(0, 0.5, 'PC2')"
      ]
     },
     "execution_count": 53,
     "metadata": {},
     "output_type": "execute_result"
    },
    {
     "data": {
      "image/png": "[encoded data removed]",
      "text/plain": [
       "<Figure size 700x700 with 1 Axes>"
      ]
     },
     "metadata": {},
     "output_type": "display_data"
    }
   ],
   "source": [
    "df_concat = pd.concat([data_pca1, data], axis=1)\n",
    "\n",
    "plt.figure(figsize = (7,7))\n",
    "sns.scatterplot(x = 0, y=1, data = df_concat, hue='cylinders')\n",
    "plt.xlabel(\"PC1\")\n",
    "plt.ylabel(\"PC2\")"
   ]
  },
  {
   "cell_type": "markdown",
   "metadata": {
    "id": "v1i8nQCevujl"
   },
   "source": [
    "**Observations:**\n",
    "\n",
    "- We can see there are 3 groups:\n",
    "    - One with 3, 4, or 5 number of cylinders\n",
    "    - One with 6 numbers of cylinders\n",
    "    - One with 8 number of cylinders\n",
    "- However, the distinction between the groups is not strong and there are some overlaps."
   ]
  }
 ],
 "metadata": {
  "colab": {
   "collapsed_sections": [],
   "name": "Solution_Notebook_PCA_and_tSNE_Project.ipynb",
   "provenance": []
  },
  "kernelspec": {
   "display_name": "Python 3",
   "language": "python",
   "name": "python3"
  },
  "language_info": {
   "codemirror_mode": {
    "name": "ipython",
    "version": 3
   },
   "file_extension": ".py",
   "mimetype": "text/x-python",
   "name": "python",
   "nbconvert_exporter": "python",
   "pygments_lexer": "ipython3",
   "version": "3.11.9"
  }
 },
 "nbformat": 4,
 "nbformat_minor": 1
}
